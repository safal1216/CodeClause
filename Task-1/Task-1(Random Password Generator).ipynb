{
 "cells": [
  {
   "cell_type": "code",
   "execution_count": 25,
   "id": "c6aec98d",
   "metadata": {},
   "outputs": [],
   "source": [
    "from tkinter import *\n",
    "import random, string\n",
    "\n",
    "\n",
    "root = Tk()\n",
    "root.geometry(\"250x250\")\n",
    "root.resizable(0,0)\n",
    "root.title(\"PASSWORD GENERATOR\")\n",
    "root.configure(background =\"purple\")\n",
    "\n",
    "###select password length\n",
    "pass_label = Label(root, text = 'PASSWORD LENGTH', font = 'arial 10 bold').pack()\n",
    "pass_len = IntVar()\n",
    "length = Spinbox(root, from_ = 8, to_ = 32 , textvariable = pass_len , width = 15).pack()\n",
    "\n",
    "#####define function\n",
    "\n",
    "pass_str = StringVar()\n",
    "\n",
    "def Generator():\n",
    "    my_password = ''\n",
    "    # Loop through password length\n",
    "    for x in range(pass_len.get()):\n",
    "        my_password += chr(random.randint(33,126))\n",
    "\n",
    "    pass_str.set(my_password)\n",
    "\n",
    "Button(root, text = \"GENERATE PASSWORD\" , command = Generator,fg='Black',background =\"skyblue\" ).pack(pady=5)\n",
    "\n",
    "Entry(root , textvariable = pass_str).pack()\n",
    "\n",
    "\n",
    "# loop to run program\n",
    "root.mainloop()"
   ]
  },
  {
   "cell_type": "code",
   "execution_count": null,
   "id": "8758dac3",
   "metadata": {},
   "outputs": [],
   "source": []
  },
  {
   "cell_type": "code",
   "execution_count": null,
   "id": "41a08107",
   "metadata": {},
   "outputs": [],
   "source": []
  }
 ],
 "metadata": {
  "kernelspec": {
   "display_name": "Python 3 (ipykernel)",
   "language": "python",
   "name": "python3"
  },
  "language_info": {
   "codemirror_mode": {
    "name": "ipython",
    "version": 3
   },
   "file_extension": ".py",
   "mimetype": "text/x-python",
   "name": "python",
   "nbconvert_exporter": "python",
   "pygments_lexer": "ipython3",
   "version": "3.11.4"
  }
 },
 "nbformat": 4,
 "nbformat_minor": 5
}
